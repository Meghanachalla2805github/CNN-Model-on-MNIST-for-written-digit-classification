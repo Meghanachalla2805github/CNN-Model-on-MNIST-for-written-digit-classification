{
  "cells": [
    {
      "cell_type": "markdown",
      "source": [
        "# **CNN_MNIST_Tensorflow Training**\n"
      ],
      "metadata": {
        "id": "psxO7rUT5_cf"
      }
    },
    {
      "cell_type": "code",
      "execution_count": null,
      "metadata": {
        "colab": {
          "base_uri": "https://localhost:8080/"
        },
        "id": "qWl7JxH7-HZz",
        "outputId": "5c8393f9-aced-405d-f910-520430f607b0"
      },
      "outputs": [
        {
          "output_type": "stream",
          "name": "stdout",
          "text": [
            "Downloading data from https://storage.googleapis.com/tensorflow/tf-keras-datasets/mnist.npz\n",
            "11490434/11490434 [==============================] - 0s 0us/step\n",
            "Training data shape: (60000, 28, 28)\n",
            "Training labels shape: (60000, 10)\n",
            "Test data shape: (10000, 28, 28)\n",
            "Test labels shape: (10000, 10)\n"
          ]
        }
      ],
      "source": [
        "import tensorflow as tf\n",
        "from tensorflow.keras.datasets import mnist\n",
        "# Load MNIST dataset\n",
        "(x_train, y_train), (x_test, y_test) = mnist.load_data()\n",
        "\n",
        "# Normalize the data\n",
        "x_train, x_test = x_train / 255.0, x_test / 255.0\n",
        "\n",
        "# Convert labels to one-hot encoding\n",
        "y_train = tf.keras.utils.to_categorical(y_train, 10)\n",
        "y_test = tf.keras.utils.to_categorical(y_test, 10)\n",
        "\n",
        "print(f\"Training data shape: {x_train.shape}\")\n",
        "print(f\"Training labels shape: {y_train.shape}\")\n",
        "print(f\"Test data shape: {x_test.shape}\")\n",
        "print(f\"Test labels shape: {y_test.shape}\")\n"
      ]
    },
    {
      "cell_type": "code",
      "execution_count": null,
      "metadata": {
        "id": "tOZd4M7M-G6w"
      },
      "outputs": [],
      "source": [
        "input_width = 28\n",
        "input_height = 28\n",
        "input_channels = 1\n",
        "input_pixels = 784\n",
        "\n",
        "n_conv1 = 32\n",
        "n_conv2 = 64\n",
        "stride_conv1 = 1\n",
        "stride_conv2 = 1\n",
        "conv1_k = 5\n",
        "conv2_k = 5\n",
        "max_pool1_k = 2\n",
        "max_pool2_k = 2\n",
        "\n",
        "n_hidden = 1024\n",
        "n_out = 10\n",
        "\n",
        "input_size_to_hidden = (input_width//(max_pool1_k*max_pool2_k)) * (input_height//(max_pool1_k*max_pool2_k)) *n_conv2"
      ]
    },
    {
      "cell_type": "code",
      "execution_count": null,
      "metadata": {
        "colab": {
          "base_uri": "https://localhost:8080/"
        },
        "id": "pW6FmvV0_S1N",
        "outputId": "d212965d-f64b-4141-ad13-359054c2f810"
      },
      "outputs": [
        {
          "output_type": "stream",
          "name": "stdout",
          "text": [
            "wc1 shape: (3, 3, 1, 32)\n",
            "wc2 shape: (3, 3, 32, 64)\n",
            "wh1 shape: (3136, 1024)\n",
            "wo shape: (1024, 10)\n",
            "bc1 shape: (32,)\n",
            "bc2 shape: (64,)\n",
            "bh1 shape: (1024,)\n",
            "bo shape: (10,)\n"
          ]
        }
      ],
      "source": [
        "import tensorflow as tf\n",
        "\n",
        "# Define the hyperparameters and dimensions\n",
        "conv1_k = 3  # Kernel size for conv1\n",
        "conv2_k = 3  # Kernel size for conv2\n",
        "input_channels = 1  # Number of input channels\n",
        "n_conv1 = 32  # Number of filters for conv1\n",
        "n_conv2 = 64  # Number of filters for conv2\n",
        "input_size_to_hidden = 7 * 7 * 64  # Example value; depends on your network architecture\n",
        "n_hidden = 1024  # Number of neurons in the fully connected layer\n",
        "n_out = 10  # Number of output classes\n",
        "\n",
        "# Initialising the weights with random values\n",
        "weights = {\n",
        "    \"wc1\": tf.Variable(tf.random.normal([conv1_k, conv1_k, input_channels, n_conv1])),\n",
        "    \"wc2\": tf.Variable(tf.random.normal([conv2_k, conv2_k, n_conv1, n_conv2])),\n",
        "    \"wh1\": tf.Variable(tf.random.normal([input_size_to_hidden, n_hidden])),\n",
        "    \"wo\": tf.Variable(tf.random.normal([n_hidden, n_out]))\n",
        "}\n",
        "\n",
        "biases = {\n",
        "    \"bc1\": tf.Variable(tf.random.normal([n_conv1])),\n",
        "    \"bc2\": tf.Variable(tf.random.normal([n_conv2])),\n",
        "    \"bh1\": tf.Variable(tf.random.normal([n_hidden])),\n",
        "    \"bo\": tf.Variable(tf.random.normal([n_out]))\n",
        "}\n",
        "\n",
        "# Verify the shapes\n",
        "for key in weights:\n",
        "    print(f'{key} shape: {weights[key].shape}')\n",
        "for key in biases:\n",
        "    print(f'{key} shape: {biases[key].shape}')\n"
      ]
    },
    {
      "cell_type": "code",
      "execution_count": null,
      "metadata": {
        "id": "5Mdv3uHk_f_Z"
      },
      "outputs": [],
      "source": [
        "def conv(x, weights, bias, strides = 1):\n",
        "    out = tf.nn.conv2d(x, weights, padding=\"SAME\", strides = [1, strides, strides, 1])\n",
        "    out = tf.nn.bias_add(out, bias)\n",
        "    out = tf.nn.relu(out)\n",
        "    return out\n",
        "\n",
        "def maxpooling(x, k = 2):\n",
        "    return tf.nn.max_pool(x, padding = \"SAME\", ksize = [1, k, k, 1], strides = [1, k, k, 1])"
      ]
    },
    {
      "cell_type": "code",
      "execution_count": null,
      "metadata": {
        "id": "mApiNTHd_lGO"
      },
      "outputs": [],
      "source": [
        "def cnn(x, weights, biases, keep_prob):\n",
        "    x = tf.reshape(x, shape = [-1 ,input_height, input_width, input_channels])\n",
        "    conv1 = conv(x, weights['wc1'], biases['bc1'], stride_conv1)\n",
        "    conv1_pool = maxpooling(conv1, max_pool1_k)\n",
        "\n",
        "    conv2 = conv(conv1_pool, weights['wc2'], biases['bc2'], stride_conv2)\n",
        "    conv2_pool = maxpooling(conv2, max_pool2_k)\n",
        "\n",
        "    hidden_input = tf.reshape(conv2_pool, shape = [-1, input_size_to_hidden])\n",
        "    hidden_output_before_activation = tf.add(tf.matmul(hidden_input, weights['wh1']), biases['bh1'])\n",
        "    hidden_output_before_dropout = tf.nn.relu(hidden_output_before_activation)\n",
        "    hidden_output = tf.nn.dropout(hidden_output_before_dropout, keep_prob)\n",
        "\n",
        "    output = tf.add(tf.matmul(hidden_output, weights['wo']), biases['bo'])\n",
        "    return output"
      ]
    },
    {
      "cell_type": "code",
      "execution_count": null,
      "metadata": {
        "colab": {
          "base_uri": "https://localhost:8080/"
        },
        "id": "4LZ2onul_uZ-",
        "outputId": "b29c03aa-0009-4cae-9516-8b74e4f69ec8"
      },
      "outputs": [
        {
          "output_type": "stream",
          "name": "stdout",
          "text": [
            "Inputs and model created using TensorFlow 2.x Keras API.\n"
          ]
        }
      ],
      "source": [
        "import tensorflow as tf\n",
        "\n",
        "# Define input layers using tf.keras.Input\n",
        "input_pixels = 784  # Example input size (e.g., for MNIST)\n",
        "x = tf.keras.Input(shape=(input_pixels,), dtype=tf.float32)\n",
        "y = tf.keras.Input(shape=(n_out,), dtype=tf.int32)\n",
        "keep_prob = tf.keras.Input(shape=(), dtype=tf.float32)\n",
        "\n",
        "# Example CNN function using tf.keras.layers (you need to define this)\n",
        "def cnn(x, weights, biases, keep_prob):\n",
        "    # Define the CNN architecture using tf.keras.layers\n",
        "    pass\n",
        "\n",
        "pred = cnn(x, weights, biases, keep_prob)\n",
        "\n",
        "print(\"Inputs and model created using TensorFlow 2.x Keras API.\")\n"
      ]
    },
    {
      "cell_type": "code",
      "execution_count": null,
      "metadata": {
        "colab": {
          "base_uri": "https://localhost:8080/"
        },
        "id": "ASSBMnnmAWnH",
        "outputId": "02430b47-6a97-484a-b12a-7156111f6b02"
      },
      "outputs": [
        {
          "output_type": "stream",
          "name": "stdout",
          "text": [
            "Model: \"model\"\n",
            "_________________________________________________________________\n",
            " Layer (type)                Output Shape              Param #   \n",
            "=================================================================\n",
            " input_layer (InputLayer)    [(None, 28, 28, 1)]       0         \n",
            "                                                                 \n",
            " conv2d (Conv2D)             (None, 28, 28, 32)        320       \n",
            "                                                                 \n",
            " max_pooling2d (MaxPooling2  (None, 14, 14, 32)        0         \n",
            " D)                                                              \n",
            "                                                                 \n",
            " conv2d_1 (Conv2D)           (None, 14, 14, 64)        18496     \n",
            "                                                                 \n",
            " max_pooling2d_1 (MaxPoolin  (None, 7, 7, 64)          0         \n",
            " g2D)                                                            \n",
            "                                                                 \n",
            " flatten (Flatten)           (None, 3136)              0         \n",
            "                                                                 \n",
            " dense (Dense)               (None, 1024)              3212288   \n",
            "                                                                 \n",
            " dropout (Dropout)           (None, 1024)              0         \n",
            "                                                                 \n",
            " dense_1 (Dense)             (None, 10)                10250     \n",
            "                                                                 \n",
            "=================================================================\n",
            "Total params: 3241354 (12.36 MB)\n",
            "Trainable params: 3241354 (12.36 MB)\n",
            "Non-trainable params: 0 (0.00 Byte)\n",
            "_________________________________________________________________\n",
            "Epoch 1/5\n",
            "938/938 [==============================] - 121s 128ms/step - loss: 0.2288 - accuracy: 0.9295 - val_loss: 0.0915 - val_accuracy: 0.9698\n",
            "Epoch 2/5\n",
            "938/938 [==============================] - 109s 116ms/step - loss: 0.1352 - accuracy: 0.9603 - val_loss: 0.0908 - val_accuracy: 0.9720\n",
            "Epoch 3/5\n",
            "938/938 [==============================] - 115s 123ms/step - loss: 0.1324 - accuracy: 0.9627 - val_loss: 0.0809 - val_accuracy: 0.9744\n",
            "Epoch 4/5\n",
            "938/938 [==============================] - 112s 119ms/step - loss: 0.1285 - accuracy: 0.9642 - val_loss: 0.0757 - val_accuracy: 0.9796\n",
            "Epoch 5/5\n",
            "938/938 [==============================] - 113s 120ms/step - loss: 0.1154 - accuracy: 0.9661 - val_loss: 0.0975 - val_accuracy: 0.9723\n"
          ]
        },
        {
          "output_type": "execute_result",
          "data": {
            "text/plain": [
              "<keras.src.callbacks.History at 0x7da702d41d80>"
            ]
          },
          "metadata": {},
          "execution_count": 7
        }
      ],
      "source": [
        "import tensorflow as tf\n",
        "\n",
        "# Ensure that TensorFlow 2.x is being used\n",
        "assert tf.__version__.startswith('2'), \"TensorFlow 2.x is required!\"\n",
        "\n",
        "# Define hyperparameters and dimensions\n",
        "conv1_k = 3  # Kernel size for conv1\n",
        "conv2_k = 3  # Kernel size for conv2\n",
        "input_channels = 1  # Number of input channels\n",
        "n_conv1 = 32  # Number of filters for conv1\n",
        "n_conv2 = 64  # Number of filters for conv2\n",
        "input_size_to_hidden = 7 * 7 * 64  # Example value; depends on your network architecture\n",
        "n_hidden = 1024  # Number of neurons in the fully connected layer\n",
        "n_out = 10  # Number of output classes\n",
        "input_pixels = 784  # Example input size (e.g., for MNIST)\n",
        "\n",
        "# Define the CNN model using tf.keras.layers\n",
        "def cnn_model():\n",
        "    inputs = tf.keras.Input(shape=(28, 28, 1), name='input_layer')\n",
        "    x = tf.keras.layers.Conv2D(filters=n_conv1, kernel_size=(conv1_k, conv1_k), padding='same', activation='relu')(inputs)\n",
        "    x = tf.keras.layers.MaxPooling2D(pool_size=(2, 2), strides=(2, 2), padding='same')(x)\n",
        "    x = tf.keras.layers.Conv2D(filters=n_conv2, kernel_size=(conv2_k, conv2_k), padding='same', activation='relu')(x)\n",
        "    x = tf.keras.layers.MaxPooling2D(pool_size=(2, 2), strides=(2, 2), padding='same')(x)\n",
        "    x = tf.keras.layers.Flatten()(x)\n",
        "    x = tf.keras.layers.Dense(units=n_hidden, activation='relu')(x)\n",
        "    x = tf.keras.layers.Dropout(rate=0.5)(x)\n",
        "    outputs = tf.keras.layers.Dense(units=n_out, activation='softmax')(x)\n",
        "    model = tf.keras.Model(inputs=inputs, outputs=outputs)\n",
        "    return model\n",
        "\n",
        "# Create the model\n",
        "model = cnn_model()\n",
        "\n",
        "# Compile the model\n",
        "model.compile(optimizer=tf.keras.optimizers.Adam(learning_rate=0.01),\n",
        "              loss='categorical_crossentropy',\n",
        "              metrics=['accuracy'])\n",
        "\n",
        "# Print the model summary\n",
        "model.summary()\n",
        "\n",
        "# Load and preprocess the MNIST dataset\n",
        "(x_train, y_train), (x_test, y_test) = tf.keras.datasets.mnist.load_data()\n",
        "x_train = x_train.reshape(-1, 28, 28, 1).astype('float32') / 255.0\n",
        "x_test = x_test.reshape(-1, 28, 28, 1).astype('float32') / 255.0\n",
        "y_train = tf.keras.utils.to_categorical(y_train, n_out)\n",
        "y_test = tf.keras.utils.to_categorical(y_test, n_out)\n",
        "\n",
        "# Train the model\n",
        "model.fit(x_train, y_train, epochs=5, batch_size=64, validation_data=(x_test, y_test))\n"
      ]
    },
    {
      "cell_type": "code",
      "source": [
        "import tensorflow as tf\n",
        "import tensorflow_datasets as tfds\n",
        "\n",
        "# Load MNIST data\n",
        "mnist_data, mnist_info = tfds.load(name='mnist', with_info=True, as_supervised=True)\n",
        "\n",
        "# Split the data\n",
        "mnist_train, mnist_test = mnist_data['train'], mnist_data['test']\n",
        "\n",
        "# Normalize the data\n",
        "def normalize(image, label):\n",
        "    image = tf.cast(image, tf.float32)\n",
        "    image /= 255.0\n",
        "    label = tf.one_hot(label, 10)\n",
        "    return image, label\n",
        "\n",
        "mnist_train = mnist_train.map(normalize)\n",
        "mnist_test = mnist_test.map(normalize)\n",
        "\n",
        "# Batch and shuffle the data\n",
        "BATCH_SIZE = 32\n",
        "SHUFFLE_BUFFER_SIZE = 10000\n",
        "\n",
        "mnist_train = mnist_train.shuffle(SHUFFLE_BUFFER_SIZE).batch(BATCH_SIZE)\n",
        "mnist_test = mnist_test.batch(BATCH_SIZE)\n",
        "\n",
        "# Define the model\n",
        "model = tf.keras.Sequential([\n",
        "    tf.keras.layers.Flatten(input_shape=(28, 28)),\n",
        "    tf.keras.layers.Dense(128, activation='relu'),\n",
        "    tf.keras.layers.Dropout(0.2),\n",
        "    tf.keras.layers.Dense(10, activation='softmax')\n",
        "])\n",
        "\n",
        "# Compile the model\n",
        "model.compile(optimizer='adam',\n",
        "              loss='categorical_crossentropy',\n",
        "              metrics=['accuracy'])\n",
        "\n",
        "# Train the model\n",
        "model.fit(mnist_train, epochs=5)\n",
        "\n",
        "# Evaluate the model\n",
        "test_loss, test_accuracy = model.evaluate(mnist_test)\n",
        "print(f'Test accuracy: {test_accuracy:.4f}')\n",
        "\n",
        "# Get predictions and correct predictions\n",
        "predictions = model.predict(mnist_test)\n",
        "predicted_labels = tf.argmax(predictions, axis=1)\n",
        "true_labels = tf.concat([y for x, y in mnist_test], axis=0)\n",
        "true_labels = tf.argmax(true_labels, axis=1)\n",
        "\n",
        "correct_predictions = tf.equal(predicted_labels, true_labels)\n",
        "accuracy = tf.reduce_sum(tf.cast(correct_predictions, tf.float32))\n",
        "total_predictions = true_labels.shape[0]\n",
        "accuracy_percentage = (accuracy.numpy() / total_predictions) * 100\n",
        "\n",
        "print(f'Number of correct predictions: {accuracy.numpy()}')\n",
        "print(f'Total number of predictions: {total_predictions}')\n",
        "print(f'Accuracy: {accuracy.numpy() / total_predictions:.4f}')\n",
        "print(f'Accuracy Percentage: {accuracy_percentage:.2f}%')\n",
        "\n"
      ],
      "metadata": {
        "colab": {
          "base_uri": "https://localhost:8080/"
        },
        "id": "EppzyeeJPwqB",
        "outputId": "dddacd45-cfa6-4cd1-b15c-03e2f40d6e84"
      },
      "execution_count": null,
      "outputs": [
        {
          "output_type": "stream",
          "name": "stdout",
          "text": [
            "Epoch 1/5\n",
            "1875/1875 [==============================] - 15s 7ms/step - loss: 0.2997 - accuracy: 0.9126\n",
            "Epoch 2/5\n",
            "1875/1875 [==============================] - 11s 5ms/step - loss: 0.1431 - accuracy: 0.9572\n",
            "Epoch 3/5\n",
            "1875/1875 [==============================] - 11s 6ms/step - loss: 0.1059 - accuracy: 0.9679\n",
            "Epoch 4/5\n",
            "1875/1875 [==============================] - 11s 6ms/step - loss: 0.0883 - accuracy: 0.9730\n",
            "Epoch 5/5\n",
            "1875/1875 [==============================] - 11s 6ms/step - loss: 0.0724 - accuracy: 0.9768\n",
            "313/313 [==============================] - 2s 4ms/step - loss: 0.0760 - accuracy: 0.9762\n",
            "Test accuracy: 0.9762\n",
            "313/313 [==============================] - 1s 3ms/step\n",
            "Number of correct predictions: 9762.0\n",
            "Total number of predictions: 10000\n",
            "Accuracy: 0.9762\n",
            "Accuracy Percentage: 97.62%\n"
          ]
        }
      ]
    },
    {
      "cell_type": "markdown",
      "source": [
        "# **`CNN_keras_MNIST Training `**"
      ],
      "metadata": {
        "id": "iBYBQ5jj5iRE"
      }
    },
    {
      "cell_type": "code",
      "source": [
        "#importing the necessary modules\n",
        "from keras.datasets import mnist\n",
        "import numpy as np\n"
      ],
      "metadata": {
        "id": "FLyQYYTUWByC"
      },
      "execution_count": null,
      "outputs": []
    },
    {
      "cell_type": "code",
      "source": [
        "#loading data\n",
        "(xtrain,ytrain),(xtest,ytest)=mnist.load_data()"
      ],
      "metadata": {
        "id": "ImT9LUhnWFP0"
      },
      "execution_count": null,
      "outputs": []
    },
    {
      "cell_type": "code",
      "source": [
        "#What mnist images look like\n",
        "import matplotlib.pyplot as plt\n",
        "print(\"Training data:\")\n",
        "plt.imshow(xtrain[4])\n",
        "plt.show()\n",
        "print(\"Label of this image is\",ytrain[4])"
      ],
      "metadata": {
        "colab": {
          "base_uri": "https://localhost:8080/",
          "height": 465
        },
        "id": "p2cfNuu0WLjq",
        "outputId": "78d31cb4-7d89-4199-c60f-33865aafc10e"
      },
      "execution_count": null,
      "outputs": [
        {
          "output_type": "stream",
          "name": "stdout",
          "text": [
            "Training data:\n"
          ]
        },
        {
          "output_type": "display_data",
          "data": {
            "text/plain": [
              "<Figure size 640x480 with 1 Axes>"
            ],
            "image/png": "[encoded data removed]"
          },
          "metadata": {}
        },
        {
          "output_type": "stream",
          "name": "stdout",
          "text": [
            "Label of this image is 9\n"
          ]
        }
      ]
    },
    {
      "cell_type": "code",
      "source": [
        "\n",
        "#reshaping data as needed by the model\n",
        "xtrain=np.reshape(xtrain,(-1,28,28,1))\n",
        "xtest=np.reshape(xtest,(-1,28,28,1))\n",
        "xtrain.shape,xtest.shape,ytrain.shape,ytest.shape"
      ],
      "metadata": {
        "colab": {
          "base_uri": "https://localhost:8080/"
        },
        "id": "Kn94nx3lWPrF",
        "outputId": "1e8ece2f-82eb-4cf2-edc8-d4eff35e85dd"
      },
      "execution_count": null,
      "outputs": [
        {
          "output_type": "execute_result",
          "data": {
            "text/plain": [
              "((60000, 28, 28, 1), (10000, 28, 28, 1), (60000,), (10000,))"
            ]
          },
          "metadata": {},
          "execution_count": 17
        }
      ]
    },
    {
      "cell_type": "code",
      "source": [
        "#normalising\n",
        "xtrain=xtrain/255\n",
        "xtest=xtest/255"
      ],
      "metadata": {
        "id": "baHCYRfVWW8y"
      },
      "execution_count": null,
      "outputs": []
    },
    {
      "cell_type": "code",
      "source": [
        "from tensorflow.keras.utils import to_categorical\n",
        "\n",
        "# Assuming ytrain and ytest are your labels\n",
        "y_train = to_categorical(ytrain, num_classes=10)\n",
        "y_test = to_categorical(ytest, num_classes=10)\n"
      ],
      "metadata": {
        "id": "ezWY2zLrWZ7f"
      },
      "execution_count": null,
      "outputs": []
    },
    {
      "cell_type": "code",
      "source": [
        "#importing the model\n",
        "from keras.models import Sequential"
      ],
      "metadata": {
        "id": "RF8k5XiXW8kY"
      },
      "execution_count": null,
      "outputs": []
    },
    {
      "cell_type": "code",
      "source": [
        "#creating model object\n",
        "model=Sequential()\n"
      ],
      "metadata": {
        "id": "IyUF6EsBXDo4"
      },
      "execution_count": null,
      "outputs": []
    },
    {
      "cell_type": "code",
      "source": [
        "#importing layers\n",
        "from keras.layers import Conv2D,MaxPooling2D,Flatten,Dense,Dropout"
      ],
      "metadata": {
        "id": "VSyDRAbaXJvS"
      },
      "execution_count": null,
      "outputs": []
    },
    {
      "cell_type": "code",
      "source": [
        "#adding layers and forming the model\n",
        "model.add(Conv2D(32,kernel_size=5,strides=1,padding=\"Same\",activation=\"relu\",input_shape=(28,28,1)))\n",
        "model.add(MaxPooling2D(padding=\"same\"))\n",
        "\n",
        "model.add(Conv2D(64,kernel_size=5,strides=1,padding=\"same\",activation=\"relu\"))\n",
        "model.add(MaxPooling2D(padding=\"same\"))\n",
        "\n",
        "model.add(Flatten())\n",
        "\n",
        "model.add(Dense(1024,activation=\"relu\"))\n",
        "model.add(Dropout(0.2))\n",
        "model.add(Dense(10,activation=\"sigmoid\"))\n"
      ],
      "metadata": {
        "id": "R2o13NFVXeIp"
      },
      "execution_count": null,
      "outputs": []
    },
    {
      "cell_type": "code",
      "source": [
        "#compiling\n",
        "model.compile(optimizer=\"adam\",loss=\"categorical_crossentropy\",metrics=[\"accuracy\"])\n"
      ],
      "metadata": {
        "id": "vAWZ3FQrXmj7"
      },
      "execution_count": null,
      "outputs": []
    },
    {
      "cell_type": "code",
      "source": [
        "model.fit(xtrain,y_train,batch_size=100,epochs=5,validation_data=(xtest,y_test))"
      ],
      "metadata": {
        "colab": {
          "base_uri": "https://localhost:8080/"
        },
        "id": "UWM4ESD5XofY",
        "outputId": "c633ef07-ecaa-458f-d329-8c02eaf739ff"
      },
      "execution_count": null,
      "outputs": [
        {
          "output_type": "stream",
          "name": "stdout",
          "text": [
            "Epoch 1/5\n",
            "600/600 [==============================] - 192s 319ms/step - loss: 0.1325 - accuracy: 0.9587 - val_loss: 0.0360 - val_accuracy: 0.9886\n",
            "Epoch 2/5\n",
            "600/600 [==============================] - 188s 313ms/step - loss: 0.0385 - accuracy: 0.9879 - val_loss: 0.0380 - val_accuracy: 0.9871\n",
            "Epoch 3/5\n",
            "600/600 [==============================] - 188s 313ms/step - loss: 0.0254 - accuracy: 0.9918 - val_loss: 0.0253 - val_accuracy: 0.9920\n",
            "Epoch 4/5\n",
            "600/600 [==============================] - 185s 308ms/step - loss: 0.0192 - accuracy: 0.9941 - val_loss: 0.0290 - val_accuracy: 0.9919\n",
            "Epoch 5/5\n",
            "600/600 [==============================] - 188s 313ms/step - loss: 0.0158 - accuracy: 0.9949 - val_loss: 0.0232 - val_accuracy: 0.9924\n"
          ]
        }
      ]
    },
    {
      "cell_type": "code",
      "source": [
        "#model train and test scores\n",
        "model.evaluate(xtrain,y_train),model.evaluate(xtest,y_test)"
      ],
      "metadata": {
        "colab": {
          "base_uri": "https://localhost:8080/"
        },
        "id": "uwXpnpKeb5Ww",
        "outputId": "05082df8-aa78-46d2-f08a-ff5e4353996c"
      },
      "execution_count": null,
      "outputs": [
        {
          "output_type": "stream",
          "name": "stdout",
          "text": [
            "1875/1875 [==============================] - 52s 28ms/step - loss: 0.0087 - accuracy: 0.9972\n",
            "313/313 [==============================] - 8s 26ms/step - loss: 0.0232 - accuracy: 0.9924\n"
          ]
        },
        {
          "output_type": "execute_result",
          "data": {
            "text/plain": [
              "([0.008741617202758789, 0.9972166419029236],\n",
              " [0.02322620153427124, 0.9923999905586243])"
            ]
          },
          "metadata": {},
          "execution_count": 28
        }
      ]
    }
  ],
  "metadata": {
    "colab": {
      "provenance": []
    },
    "kernelspec": {
      "display_name": "Python 3",
      "name": "python3"
    },
    "language_info": {
      "name": "python"
    }
  },
  "nbformat": 4,
  "nbformat_minor": 0
}